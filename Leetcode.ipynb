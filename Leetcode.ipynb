{
 "cells": [
  {
   "cell_type": "code",
   "execution_count": 1,
   "metadata": {},
   "outputs": [],
   "source": [
    "def mutateTheArray(n, a):\n",
    "    b = [0] * n\n",
    "    print(b)\n",
    "    print(a)\n",
    "    for i in range(n):\n",
    "        if i ==0 and i == n-1:\n",
    "            b[i] = 0 + a[i] + 0\n",
    "        if i == 0 and i != n-1:\n",
    "            b[i] = 0 + a[i] + a[i+1]\n",
    "        elif i == n-1 and i != 0:\n",
    "            b[i] = a[i-1] + a[i] + 0\n",
    "        elif i ==0 and i == n-1:\n",
    "            b[i] = 0 + a[i] + 0\n",
    "        else:\n",
    "            b[i] = a[i-1] + a[i] + a[i+1]\n",
    "        \n",
    "    return b"
   ]
  },
  {
   "cell_type": "code",
   "execution_count": 2,
   "metadata": {},
   "outputs": [
    {
     "name": "stdout",
     "output_type": "stream",
     "text": [
      "[0, 0, 0, 0, 0]\n",
      "[4, 0, 1, -2, 3]\n"
     ]
    },
    {
     "data": {
      "text/plain": [
       "[4, 5, -1, 2, 1]"
      ]
     },
     "execution_count": 2,
     "metadata": {},
     "output_type": "execute_result"
    }
   ],
   "source": [
    "mutateTheArray(5, [4, 0, 1, -2, 3])"
   ]
  },
  {
   "cell_type": "code",
   "execution_count": 3,
   "metadata": {},
   "outputs": [
    {
     "name": "stdout",
     "output_type": "stream",
     "text": [
      "[0]\n",
      "[9]\n"
     ]
    },
    {
     "data": {
      "text/plain": [
       "[9]"
      ]
     },
     "execution_count": 3,
     "metadata": {},
     "output_type": "execute_result"
    }
   ],
   "source": [
    "mutateTheArray(1, [9])"
   ]
  },
  {
   "cell_type": "code",
   "execution_count": 48,
   "metadata": {},
   "outputs": [],
   "source": [
    "def alternatingSort(a):\n",
    "    b = [0] * len(a)\n",
    "    c = 1\n",
    "    \n",
    "    for i in range(len(a)):\n",
    "        if i %2 == 0:\n",
    "            b[i] = a[i//2]\n",
    "        if i % 2 != 0:\n",
    "            b[i] = a[-c]\n",
    "            c+= 1\n",
    "        if i == 0:\n",
    "            b[i] = a[0]\n",
    "        if i == 1:\n",
    "            b[i] = a[-1]\n",
    "    print(b)        \n",
    "    for i in range(len(b)-1):\n",
    "        if b[i] >= b[i+1]:\n",
    "            return False\n",
    "    return True"
   ]
  },
  {
   "cell_type": "code",
   "execution_count": 49,
   "metadata": {},
   "outputs": [
    {
     "name": "stdout",
     "output_type": "stream",
     "text": [
      "[1, 2, 3, 4, 5, 6]\n"
     ]
    },
    {
     "data": {
      "text/plain": [
       "True"
      ]
     },
     "execution_count": 49,
     "metadata": {},
     "output_type": "execute_result"
    }
   ],
   "source": [
    "alternatingSort([1, 3, 5, 6, 4, 2])"
   ]
  },
  {
   "cell_type": "code",
   "execution_count": 50,
   "metadata": {},
   "outputs": [
    {
     "name": "stdout",
     "output_type": "stream",
     "text": [
      "[-92, -48, -23, -17, 0, 41, 45, 89, 89, 95, 96, 99]\n"
     ]
    },
    {
     "data": {
      "text/plain": [
       "False"
      ]
     },
     "execution_count": 50,
     "metadata": {},
     "output_type": "execute_result"
    }
   ],
   "source": [
    "alternatingSort([-92, -23, 0, 45, 89, 96, 99, 95, 89, 41, -17, -48])"
   ]
  },
  {
   "cell_type": "code",
   "execution_count": 59,
   "metadata": {},
   "outputs": [],
   "source": [
    "def findTheTriples(arr, queries):\n",
    "    c = 0\n",
    "    lst = []\n",
    "    for i in queries:\n",
    "        for j in arr:\n",
    "            if i[0] == j:\n",
    "                c += 1\n",
    "                lst.append(c)\n",
    "        c = 0\n",
    "    \n",
    "    for i in in lst:\n",
    "        for j in queries:\n",
    "            for k in arr:\n",
    "                if"
   ]
  },
  {
   "cell_type": "code",
   "execution_count": 60,
   "metadata": {},
   "outputs": [
    {
     "name": "stdout",
     "output_type": "stream",
     "text": [
      "[1, 1, 1]\n"
     ]
    }
   ],
   "source": [
    "findTheTriples([1, 2, 3, 4, 5],[[1, 2, 4], [2, 4, 3], [1, 1, 1]])"
   ]
  },
  {
   "cell_type": "code",
   "execution_count": 4,
   "metadata": {},
   "outputs": [
    {
     "name": "stdout",
     "output_type": "stream",
     "text": [
      "1\n",
      "1\n",
      "2\n",
      "3\n",
      "[[0, 0, 0], [0, 0, 1], [0, 0, 2], [0, 1, 0], [0, 1, 1], [1, 0, 0], [1, 0, 1], [1, 1, 0], [1, 1, 2]]\n"
     ]
    }
   ],
   "source": [
    "x, y, z, n = int(input()), int(input()), int(input()), int(input())\n",
    "print ([[a,b,c] for a in range(0,x+1) for b in range(0,y+1) for c in range(0,z+1) if a + b + c != n ])"
   ]
  },
  {
   "cell_type": "code",
   "execution_count": 18,
   "metadata": {},
   "outputs": [
    {
     "name": "stdout",
     "output_type": "stream",
     "text": [
      "5\n"
     ]
    }
   ],
   "source": [
    "arr = [1,2,3,4,6,6,5]\n",
    "#m = arr.pop(max(arr))\n",
    "for i in range(arr.count(max(arr))):\n",
    "    arr.pop(arr.index(max(arr)))\n",
    "print(max(arr))"
   ]
  },
  {
   "cell_type": "code",
   "execution_count": 33,
   "metadata": {},
   "outputs": [
    {
     "ename": "KeyboardInterrupt",
     "evalue": "Interrupted by user",
     "output_type": "error",
     "traceback": [
      "\u001b[1;31m---------------------------------------------------------------------------\u001b[0m",
      "\u001b[1;31mKeyboardInterrupt\u001b[0m                         Traceback (most recent call last)",
      "\u001b[1;32m<ipython-input-33-06559c57b590>\u001b[0m in \u001b[0;36m<module>\u001b[1;34m\u001b[0m\n\u001b[0;32m      4\u001b[0m     \u001b[0mlow_score\u001b[0m \u001b[1;33m=\u001b[0m \u001b[1;36m101\u001b[0m\u001b[1;33m\u001b[0m\u001b[1;33m\u001b[0m\u001b[0m\n\u001b[0;32m      5\u001b[0m     \u001b[0msec_low\u001b[0m \u001b[1;33m=\u001b[0m \u001b[1;36m101\u001b[0m\u001b[1;33m\u001b[0m\u001b[1;33m\u001b[0m\u001b[0m\n\u001b[1;32m----> 6\u001b[1;33m     \u001b[1;32mfor\u001b[0m \u001b[0m_\u001b[0m \u001b[1;32min\u001b[0m \u001b[0mrange\u001b[0m\u001b[1;33m(\u001b[0m\u001b[0mint\u001b[0m\u001b[1;33m(\u001b[0m\u001b[0minput\u001b[0m\u001b[1;33m(\u001b[0m\u001b[1;33m)\u001b[0m\u001b[1;33m)\u001b[0m\u001b[1;33m)\u001b[0m\u001b[1;33m:\u001b[0m\u001b[1;33m\u001b[0m\u001b[1;33m\u001b[0m\u001b[0m\n\u001b[0m\u001b[0;32m      7\u001b[0m         \u001b[0mname\u001b[0m \u001b[1;33m=\u001b[0m \u001b[0minput\u001b[0m\u001b[1;33m(\u001b[0m\u001b[1;33m)\u001b[0m\u001b[1;33m\u001b[0m\u001b[1;33m\u001b[0m\u001b[0m\n\u001b[0;32m      8\u001b[0m         \u001b[0mscore\u001b[0m \u001b[1;33m=\u001b[0m \u001b[0mfloat\u001b[0m\u001b[1;33m(\u001b[0m\u001b[0minput\u001b[0m\u001b[1;33m(\u001b[0m\u001b[1;33m)\u001b[0m\u001b[1;33m)\u001b[0m\u001b[1;33m\u001b[0m\u001b[1;33m\u001b[0m\u001b[0m\n",
      "\u001b[1;32m~\\anaconda3\\lib\\site-packages\\ipykernel\\kernelbase.py\u001b[0m in \u001b[0;36mraw_input\u001b[1;34m(self, prompt)\u001b[0m\n\u001b[0;32m    858\u001b[0m                 \u001b[1;34m\"raw_input was called, but this frontend does not support input requests.\"\u001b[0m\u001b[1;33m\u001b[0m\u001b[1;33m\u001b[0m\u001b[0m\n\u001b[0;32m    859\u001b[0m             )\n\u001b[1;32m--> 860\u001b[1;33m         return self._input_request(str(prompt),\n\u001b[0m\u001b[0;32m    861\u001b[0m             \u001b[0mself\u001b[0m\u001b[1;33m.\u001b[0m\u001b[0m_parent_ident\u001b[0m\u001b[1;33m,\u001b[0m\u001b[1;33m\u001b[0m\u001b[1;33m\u001b[0m\u001b[0m\n\u001b[0;32m    862\u001b[0m             \u001b[0mself\u001b[0m\u001b[1;33m.\u001b[0m\u001b[0m_parent_header\u001b[0m\u001b[1;33m,\u001b[0m\u001b[1;33m\u001b[0m\u001b[1;33m\u001b[0m\u001b[0m\n",
      "\u001b[1;32m~\\anaconda3\\lib\\site-packages\\ipykernel\\kernelbase.py\u001b[0m in \u001b[0;36m_input_request\u001b[1;34m(self, prompt, ident, parent, password)\u001b[0m\n\u001b[0;32m    902\u001b[0m             \u001b[1;32mexcept\u001b[0m \u001b[0mKeyboardInterrupt\u001b[0m\u001b[1;33m:\u001b[0m\u001b[1;33m\u001b[0m\u001b[1;33m\u001b[0m\u001b[0m\n\u001b[0;32m    903\u001b[0m                 \u001b[1;31m# re-raise KeyboardInterrupt, to truncate traceback\u001b[0m\u001b[1;33m\u001b[0m\u001b[1;33m\u001b[0m\u001b[1;33m\u001b[0m\u001b[0m\n\u001b[1;32m--> 904\u001b[1;33m                 \u001b[1;32mraise\u001b[0m \u001b[0mKeyboardInterrupt\u001b[0m\u001b[1;33m(\u001b[0m\u001b[1;34m\"Interrupted by user\"\u001b[0m\u001b[1;33m)\u001b[0m \u001b[1;32mfrom\u001b[0m \u001b[1;32mNone\u001b[0m\u001b[1;33m\u001b[0m\u001b[1;33m\u001b[0m\u001b[0m\n\u001b[0m\u001b[0;32m    905\u001b[0m             \u001b[1;32mexcept\u001b[0m \u001b[0mException\u001b[0m \u001b[1;32mas\u001b[0m \u001b[0me\u001b[0m\u001b[1;33m:\u001b[0m\u001b[1;33m\u001b[0m\u001b[1;33m\u001b[0m\u001b[0m\n\u001b[0;32m    906\u001b[0m                 \u001b[0mself\u001b[0m\u001b[1;33m.\u001b[0m\u001b[0mlog\u001b[0m\u001b[1;33m.\u001b[0m\u001b[0mwarning\u001b[0m\u001b[1;33m(\u001b[0m\u001b[1;34m\"Invalid Message:\"\u001b[0m\u001b[1;33m,\u001b[0m \u001b[0mexc_info\u001b[0m\u001b[1;33m=\u001b[0m\u001b[1;32mTrue\u001b[0m\u001b[1;33m)\u001b[0m\u001b[1;33m\u001b[0m\u001b[1;33m\u001b[0m\u001b[0m\n",
      "\u001b[1;31mKeyboardInterrupt\u001b[0m: Interrupted by user"
     ]
    }
   ],
   "source": [
    "if __name__ == '__main__':\n",
    "    \n",
    "    lst = []\n",
    "    low_score = 101\n",
    "    sec_low = 101\n",
    "    for _ in range(int(input())):\n",
    "        name = input()\n",
    "        score = float(input())\n",
    "        lst.append([name,score])\n",
    "        if score < low_score:\n",
    "            low_score = score\n",
    "    \n",
    "    for i,j in lst:\n",
    "        if j > low_score and j <= sec_low:\n",
    "            sec_low = j\n",
    "    \n",
    "    s_names = []\n",
    "    for x,y in lst:\n",
    "        if y == sec_low:\n",
    "            s_names.append(x)\n",
    "    \n",
    "    for i in sorted(s_names):\n",
    "        print(i)"
   ]
  },
  {
   "cell_type": "code",
   "execution_count": 50,
   "metadata": {},
   "outputs": [],
   "source": [
    "def fibonacci(n):\n",
    "    # return a list of fibonacci numbers\n",
    "    if n == 0:\n",
    "        return []\n",
    "    elif n == 1:\n",
    "        return [0]\n",
    "    lst = [0,1] + [0] * (n -2)\n",
    "    for i in range(2,n):\n",
    "        for j in range((i-2),i):\n",
    "            lst[i] += lst[j]\n",
    "    return lst"
   ]
  },
  {
   "cell_type": "code",
   "execution_count": 51,
   "metadata": {},
   "outputs": [
    {
     "data": {
      "text/plain": [
       "[0, 1, 1, 2, 3]"
      ]
     },
     "execution_count": 51,
     "metadata": {},
     "output_type": "execute_result"
    }
   ],
   "source": [
    "fibonacci(5)"
   ]
  },
  {
   "cell_type": "code",
   "execution_count": 78,
   "metadata": {},
   "outputs": [],
   "source": [
    "def fun(s):\n",
    "    import re\n",
    "    if '@' and '.' in s:\n",
    "        lst = re.split('@|\\.',s)\n",
    "    print(lst)"
   ]
  },
  {
   "cell_type": "code",
   "execution_count": 79,
   "metadata": {},
   "outputs": [
    {
     "name": "stdout",
     "output_type": "stream",
     "text": [
      "['shannon', 'gmail', 'com']\n"
     ]
    }
   ],
   "source": [
    "fun('shannon@gmail.com')"
   ]
  },
  {
   "cell_type": "code",
   "execution_count": 42,
   "metadata": {},
   "outputs": [],
   "source": [
    "def solution(A):\n",
    "    # write your code in Python 3.6\n",
    "    for i in A:\n",
    "        for j in A:\n",
    "            if abs(i - j) == 1:\n",
    "                return True\n",
    "    return False"
   ]
  },
  {
   "cell_type": "code",
   "execution_count": 61,
   "metadata": {},
   "outputs": [
    {
     "data": {
      "text/plain": [
       "False"
      ]
     },
     "execution_count": 61,
     "metadata": {},
     "output_type": "execute_result"
    }
   ],
   "source": [
    "solution([7])"
   ]
  },
  {
   "cell_type": "code",
   "execution_count": 62,
   "metadata": {},
   "outputs": [
    {
     "data": {
      "text/plain": [
       "True"
      ]
     },
     "execution_count": 62,
     "metadata": {},
     "output_type": "execute_result"
    }
   ],
   "source": [
    "solution([4,3])"
   ]
  },
  {
   "cell_type": "code",
   "execution_count": 63,
   "metadata": {},
   "outputs": [
    {
     "data": {
      "text/plain": [
       "True"
      ]
     },
     "execution_count": 63,
     "metadata": {},
     "output_type": "execute_result"
    }
   ],
   "source": [
    "solution([11,1,8,12,14])"
   ]
  },
  {
   "cell_type": "code",
   "execution_count": 64,
   "metadata": {},
   "outputs": [
    {
     "data": {
      "text/plain": [
       "True"
      ]
     },
     "execution_count": 64,
     "metadata": {},
     "output_type": "execute_result"
    }
   ],
   "source": [
    "solution([4,10,8,5,9])"
   ]
  },
  {
   "cell_type": "code",
   "execution_count": 65,
   "metadata": {},
   "outputs": [
    {
     "data": {
      "text/plain": [
       "False"
      ]
     },
     "execution_count": 65,
     "metadata": {},
     "output_type": "execute_result"
    }
   ],
   "source": [
    "solution([5,5,5,5,5])"
   ]
  },
  {
   "cell_type": "code",
   "execution_count": 60,
   "metadata": {},
   "outputs": [],
   "source": [
    "def solution(A):\n",
    "    # write your code in Python 3.6\n",
    "    d = {}\n",
    "    for num in sorted(A):\n",
    "        d[num] = 1\n",
    "        if num - 1 in d:\n",
    "            return True\n",
    "        \n",
    "    return False"
   ]
  },
  {
   "cell_type": "code",
   "execution_count": 66,
   "metadata": {},
   "outputs": [],
   "source": [
    "def solution(X, Y, A):\n",
    "    N = len(A)\n",
    "    result = -1\n",
    "    nX = 0\n",
    "    nY = 0\n",
    "    for i in range(N):\n",
    "        if A[i] == X:\n",
    "            nX += 1\n",
    "        elif A[i] == Y:\n",
    "            nY += 1\n",
    "        if nX == nY:\n",
    "            result = i\n",
    "    return result"
   ]
  },
  {
   "cell_type": "code",
   "execution_count": 67,
   "metadata": {},
   "outputs": [
    {
     "data": {
      "text/plain": [
       "4"
      ]
     },
     "execution_count": 67,
     "metadata": {},
     "output_type": "execute_result"
    }
   ],
   "source": [
    "solution(7,42,[6,42,11,7,1,42])"
   ]
  },
  {
   "cell_type": "code",
   "execution_count": 68,
   "metadata": {},
   "outputs": [
    {
     "data": {
      "text/plain": [
       "-1"
      ]
     },
     "execution_count": 68,
     "metadata": {},
     "output_type": "execute_result"
    }
   ],
   "source": [
    "solution(6,13,[13,13,1,6])"
   ]
  },
  {
   "cell_type": "code",
   "execution_count": 69,
   "metadata": {},
   "outputs": [
    {
     "data": {
      "text/plain": [
       "5"
      ]
     },
     "execution_count": 69,
     "metadata": {},
     "output_type": "execute_result"
    }
   ],
   "source": [
    "solution(100,63,[100,63,1,6,2,13])"
   ]
  },
  {
   "cell_type": "code",
   "execution_count": 956,
   "metadata": {},
   "outputs": [],
   "source": [
    "def solution(A,B,N):\n",
    "    lst = [0] * (N+1)\n",
    "    for a, b in zip(A,B): #just counting the occurances of each node and storing in lst\n",
    "        lst[a] += 1\n",
    "        lst[b] += 1\n",
    "    max_rank = 0\n",
    "    print(lst)\n",
    "    for a,b in zip(A,B):  #get max of current max or occurance count of stop 1 + stop 2 - 1\n",
    "        max_rank = max(max_rank,(lst[a]+lst[b]-1))\n",
    "        \n",
    "    return max_rank"
   ]
  },
  {
   "cell_type": "code",
   "execution_count": 957,
   "metadata": {},
   "outputs": [
    {
     "name": "stdout",
     "output_type": "stream",
     "text": [
      "[0, 2, 2, 3, 1]\n"
     ]
    },
    {
     "data": {
      "text/plain": [
       "4"
      ]
     },
     "execution_count": 957,
     "metadata": {},
     "output_type": "execute_result"
    }
   ],
   "source": [
    "solution([1,2,3,3],[2,3,1,4],4)"
   ]
  },
  {
   "cell_type": "code",
   "execution_count": 75,
   "metadata": {},
   "outputs": [
    {
     "data": {
      "text/plain": [
       "2"
      ]
     },
     "execution_count": 75,
     "metadata": {},
     "output_type": "execute_result"
    }
   ],
   "source": [
    "solution([1,2,4,5],[2,3,5,6],6)"
   ]
  },
  {
   "cell_type": "code",
   "execution_count": 109,
   "metadata": {},
   "outputs": [],
   "source": [
    "def maxProfit(prices):\n",
    "    \n",
    "    min_buy = prices[0]\n",
    "    max_profit = 0\n",
    "    for i in range(1,len(prices)):\n",
    "        if prices[i] - min_buy > max_profit:\n",
    "            max_profit = prices[i] - min_buy\n",
    "        if prices[i] < min_buy:\n",
    "            min_buy = prices[i]\n",
    "    return max_profit"
   ]
  },
  {
   "cell_type": "code",
   "execution_count": 111,
   "metadata": {},
   "outputs": [
    {
     "data": {
      "text/plain": [
       "5"
      ]
     },
     "execution_count": 111,
     "metadata": {},
     "output_type": "execute_result"
    }
   ],
   "source": [
    "maxProfit([7,1,5,3,6,4])"
   ]
  },
  {
   "cell_type": "code",
   "execution_count": 112,
   "metadata": {},
   "outputs": [],
   "source": [
    "def containsDuplicate(nums):\n",
    "    d = {}\n",
    "    for i in nums:\n",
    "        if i in d:\n",
    "            return True\n",
    "        d[i] = 1\n",
    "    return False   "
   ]
  },
  {
   "cell_type": "code",
   "execution_count": 123,
   "metadata": {},
   "outputs": [],
   "source": [
    "#winner\n",
    "def containsDuplicate(nums):\n",
    "    nums = sorted(nums)\n",
    "    for i in range(1,len(nums)):\n",
    "        if nums[i] == nums[i-1]:\n",
    "            return True\n",
    "    return False   "
   ]
  },
  {
   "cell_type": "code",
   "execution_count": 120,
   "metadata": {},
   "outputs": [
    {
     "data": {
      "text/plain": [
       "True"
      ]
     },
     "execution_count": 120,
     "metadata": {},
     "output_type": "execute_result"
    }
   ],
   "source": [
    "containsDuplicate([1,2,3,1])"
   ]
  },
  {
   "cell_type": "code",
   "execution_count": 121,
   "metadata": {},
   "outputs": [
    {
     "data": {
      "text/plain": [
       "False"
      ]
     },
     "execution_count": 121,
     "metadata": {},
     "output_type": "execute_result"
    }
   ],
   "source": [
    "containsDuplicate([1,2,3,4])"
   ]
  },
  {
   "cell_type": "code",
   "execution_count": 122,
   "metadata": {},
   "outputs": [
    {
     "data": {
      "text/plain": [
       "True"
      ]
     },
     "execution_count": 122,
     "metadata": {},
     "output_type": "execute_result"
    }
   ],
   "source": [
    "containsDuplicate([1,1,1,3,3,4,3,2,4,2])"
   ]
  },
  {
   "cell_type": "code",
   "execution_count": 214,
   "metadata": {},
   "outputs": [],
   "source": [
    "def productExceptSelf(nums):\n",
    "    answer = []\n",
    "    n = 1\n",
    "    \n",
    "    for i in range(len(nums)):\n",
    "        answer.append(n)  \n",
    "        n *= nums[i]\n",
    "    print(nums)\n",
    "    print(answer)\n",
    "    n = 1\n",
    "    for j in reversed(range(len(nums))):\n",
    "        answer[j] *= n\n",
    "        n *= nums[j]\n",
    "    return answer"
   ]
  },
  {
   "cell_type": "code",
   "execution_count": 215,
   "metadata": {},
   "outputs": [
    {
     "name": "stdout",
     "output_type": "stream",
     "text": [
      "[1, 2, 3, 4]\n",
      "[1, 1, 2, 6]\n"
     ]
    },
    {
     "data": {
      "text/plain": [
       "[24, 12, 8, 6]"
      ]
     },
     "execution_count": 215,
     "metadata": {},
     "output_type": "execute_result"
    }
   ],
   "source": [
    "productExceptSelf([1,2,3,4])"
   ]
  },
  {
   "cell_type": "code",
   "execution_count": 373,
   "metadata": {},
   "outputs": [],
   "source": [
    "def maxSubArray(nums):\n",
    "    s = [nums[0]]\n",
    "    \n",
    "    for i in range(1,len(nums)):\n",
    "        s.append(max(nums[i],s[i-1]+nums[i]))\n",
    "        \n",
    "    max_sum = max(s)\n",
    "    print(s)       \n",
    "    return max_sum"
   ]
  },
  {
   "cell_type": "code",
   "execution_count": 383,
   "metadata": {},
   "outputs": [],
   "source": [
    "#winner\n",
    "def maxSubArray(nums):\n",
    "    for i in range(1,len(nums)):\n",
    "        if nums[i-1] > 0:\n",
    "            nums[i] += nums[i-1]\n",
    "        print(nums)\n",
    "    return max(nums)"
   ]
  },
  {
   "cell_type": "code",
   "execution_count": 415,
   "metadata": {},
   "outputs": [],
   "source": [
    "#winner divide and conquer\n",
    "def divide_and_conquer(nums,i,j):\n",
    "    if i == j-1:\n",
    "        return nums[i],nums[i],nums[i],nums[i]\n",
    "    # we will compute :\n",
    "    # a which is max contiguous sum in nums[i:j] including the first value\n",
    "    # m which is max contiguous sum in nums[i:j] anywhere \n",
    "    # b which is max contiguous sum in nums[i:j] including the last value\n",
    "    # s which is the sum of all values in nums[i:j]\n",
    "        \n",
    "    #i starts off as zero, j is the len(nums)\n",
    "    i_mid = i+(j-i)//2\n",
    "        \n",
    "    #compute a,m,b,s for left half\n",
    "    a, m, b, s = divide_and_conquer(nums, i, i_mid)\n",
    "    \n",
    "    #compute a1,m1,b1,s1 for right side\n",
    "    a1, m1, b1, s1 = divide_and_conquer(nums, i_mid, j)\n",
    "    \n",
    "    #calculate a,m,b,s values from left and right halves to form a,m,b,s for whole array\n",
    "    \n",
    "    a2 = max(a,s+a1) #is the max the sum of the left, or sum of everything including first\n",
    "    b2 = max(b1,s1+b) #max of the sum of the right side or whole array plus last\n",
    "    m2 = max(m,m1,b+a1) #max sum anywhere\n",
    "    s2 = s + s1 #sum of all values\n",
    "    \n",
    "    print(a,m,b,s)\n",
    "    print(a1, m1, b1, s1)\n",
    "\n",
    "    return a2,m2,b2,s2\n",
    "            "
   ]
  },
  {
   "cell_type": "code",
   "execution_count": 416,
   "metadata": {},
   "outputs": [
    {
     "name": "stdout",
     "output_type": "stream",
     "text": [
      "-2 -2 -2 -2\n",
      "1 1 1 1\n",
      "-3 -3 -3 -3\n",
      "4 4 4 4\n",
      "-1 1 1 -1\n",
      "1 4 4 1\n",
      "-1 -1 -1 -1\n",
      "2 2 2 2\n",
      "-5 -5 -5 -5\n",
      "4 4 4 4\n",
      "1 1 1 1\n",
      "-1 4 4 -1\n",
      "1 2 2 1\n",
      "1 4 4 0\n",
      "0 4 4 0\n",
      "2 4 4 1\n"
     ]
    },
    {
     "data": {
      "text/plain": [
       "(2, 6, 5, 1)"
      ]
     },
     "execution_count": 416,
     "metadata": {},
     "output_type": "execute_result"
    }
   ],
   "source": [
    "divide_and_conquer([-2,1,-3,4,-1,2,1,-5,4],0,len([-2,1,-3,4,-1,2,1,-5,4]))"
   ]
  },
  {
   "cell_type": "code",
   "execution_count": 411,
   "metadata": {},
   "outputs": [
    {
     "name": "stdout",
     "output_type": "stream",
     "text": [
      "5 5 5 5\n",
      "4 4 4 4\n",
      "7 7 7 7\n",
      "8 8 8 8\n",
      "-1 -1 -1 -1\n",
      "15 15 15 15\n",
      "9 9 9 9\n",
      "14 15 15 14\n"
     ]
    },
    {
     "data": {
      "text/plain": [
       "(23, 23, 23, 23)"
      ]
     },
     "execution_count": 411,
     "metadata": {},
     "output_type": "execute_result"
    }
   ],
   "source": [
    "divide_and_conquer([5,4,-1,7,8],0,len([5,4,-1,7,8]))"
   ]
  },
  {
   "cell_type": "code",
   "execution_count": 380,
   "metadata": {},
   "outputs": [
    {
     "data": {
      "text/plain": [
       "23"
      ]
     },
     "execution_count": 380,
     "metadata": {},
     "output_type": "execute_result"
    }
   ],
   "source": [
    "maxSubArray([5,4,-1,7,8])"
   ]
  },
  {
   "cell_type": "code",
   "execution_count": 381,
   "metadata": {},
   "outputs": [
    {
     "data": {
      "text/plain": [
       "1"
      ]
     },
     "execution_count": 381,
     "metadata": {},
     "output_type": "execute_result"
    }
   ],
   "source": [
    "maxSubArray([-2,1])"
   ]
  },
  {
   "cell_type": "code",
   "execution_count": 382,
   "metadata": {},
   "outputs": [
    {
     "data": {
      "text/plain": [
       "21"
      ]
     },
     "execution_count": 382,
     "metadata": {},
     "output_type": "execute_result"
    }
   ],
   "source": [
    "maxSubArray([8,-19,5,-4,20])"
   ]
  },
  {
   "cell_type": "code",
   "execution_count": 412,
   "metadata": {},
   "outputs": [
    {
     "name": "stdout",
     "output_type": "stream",
     "text": [
      "8 8 8 8\n",
      "-19 -19 -19 -19\n",
      "-4 -4 -4 -4\n",
      "20 20 20 20\n",
      "5 5 5 5\n",
      "16 20 20 16\n",
      "8 8 -11 -11\n",
      "21 21 21 21\n"
     ]
    },
    {
     "data": {
      "text/plain": [
       "(10, 21, 21, 10)"
      ]
     },
     "execution_count": 412,
     "metadata": {},
     "output_type": "execute_result"
    }
   ],
   "source": [
    "divide_and_conquer([8,-19,5,-4,20],0,len([8,-19,5,-4,20]))"
   ]
  },
  {
   "cell_type": "code",
   "execution_count": 446,
   "metadata": {},
   "outputs": [],
   "source": [
    "def rotate(matrix):\n",
    "    \"\"\"\n",
    "    Do not return anything, modify matrix in-place instead.\n",
    "    \"\"\"\n",
    "    #if you're in row 0 -> col 2, row 1 -> col 1, row 2 -> col 0\n",
    "    #(0,0) --> (0,2)  (0,1) --> (1,2) (0,2) --> (2,2)\n",
    "    # reverse\n",
    "    l = 0\n",
    "    r = len(matrix) -1\n",
    "    while l < r:\n",
    "        matrix[l], matrix[r] = matrix[r], matrix[l]\n",
    "        l += 1\n",
    "        r -= 1\n",
    "\n",
    "    #transpose\n",
    "    for i in range(len(matrix)):\n",
    "        for j in range(i):\n",
    "            matrix[i][j], matrix[j][i] = matrix[j][i], matrix[i][j]"
   ]
  },
  {
   "cell_type": "code",
   "execution_count": 447,
   "metadata": {},
   "outputs": [
    {
     "name": "stdout",
     "output_type": "stream",
     "text": [
      "[1, 2, 3]\n",
      "[4, 5, 6]\n",
      "[7, 8, 9]\n",
      "\n",
      "[7, 4, 1]\n",
      "[8, 5, 2]\n",
      "[9, 6, 3]\n"
     ]
    }
   ],
   "source": [
    "rotate([[1,2,3],[4,5,6],[7,8,9]])"
   ]
  },
  {
   "cell_type": "code",
   "execution_count": 602,
   "metadata": {},
   "outputs": [],
   "source": [
    "### base code from hacker rank where numbers didnt have to be in order\n",
    "#This is different than max product of numbers in list in order\n",
    "def maxProduct(xs):\n",
    "    #initialize maximum and minimum\n",
    "    a = [xs[0]] * len(xs)\n",
    "    b = [xs[0]] * len(xs)\n",
    "    \n",
    "    for i in range(1,len(xs)):\n",
    "        a[i] = max(xs[i],max(a[i-1],xs[i]),a[i-1]*xs[i],(min(b)*xs[i]))\n",
    "        b[i] = min(xs[i],max(a[i-1],xs[i]),a[i-1]*xs[i],(min(b)*xs[i])) \n",
    "    return max(a)"
   ]
  },
  {
   "cell_type": "code",
   "execution_count": 658,
   "metadata": {},
   "outputs": [],
   "source": [
    "#Winner\n",
    "def maxProduct(nums):\n",
    "    if len(nums) == 1:\n",
    "        return nums[0]\n",
    "    pH = [nums[0]] + [0] * (len(nums)-1)\n",
    "    pL = [nums[0]] + [0] * (len(nums)-1)\n",
    "    \n",
    "    for i in range(1,len(nums)):\n",
    "        pH[i] = max(nums[i],nums[i] * pH[i-1],nums[i]*pL[i-1])\n",
    "        pL[i] = min(nums[i],nums[i] * pH[i-1],nums[i]*pL[i-1])\n",
    "    return max(pH)"
   ]
  },
  {
   "cell_type": "code",
   "execution_count": 725,
   "metadata": {},
   "outputs": [],
   "source": [
    "#for when numbers have to be contigious maxProduct, quicker winner\n",
    "\n",
    "def maxProduct(A):\n",
    "    B = A[::-1] #reverse nums\n",
    "    print(A)\n",
    "    print(B)\n",
    "    for i in range(1, len(A)):\n",
    "        A[i] *= A[i - 1] \n",
    "        B[i] *= B[i - 1]\n",
    "    print(A)\n",
    "    print(B)\n",
    "    return max(A + B)"
   ]
  },
  {
   "cell_type": "code",
   "execution_count": 726,
   "metadata": {},
   "outputs": [
    {
     "name": "stdout",
     "output_type": "stream",
     "text": [
      "[2, 3, -2, 4]\n",
      "[4, -2, 3, 2]\n",
      "[2, 6, -12, -48]\n",
      "[4, -8, -24, -48]\n"
     ]
    },
    {
     "data": {
      "text/plain": [
       "6"
      ]
     },
     "execution_count": 726,
     "metadata": {},
     "output_type": "execute_result"
    }
   ],
   "source": [
    "maxProduct([2,3,-2,4])"
   ]
  },
  {
   "cell_type": "code",
   "execution_count": 687,
   "metadata": {},
   "outputs": [
    {
     "name": "stdout",
     "output_type": "stream",
     "text": [
      "[-2, 0, -1]\n",
      "[-1, 0, -2]\n",
      "[-2, 0, 0]\n",
      "[-1, 0, 0]\n"
     ]
    },
    {
     "data": {
      "text/plain": [
       "0"
      ]
     },
     "execution_count": 687,
     "metadata": {},
     "output_type": "execute_result"
    }
   ],
   "source": [
    "maxProduct([-2,0,-1])"
   ]
  },
  {
   "cell_type": "code",
   "execution_count": 685,
   "metadata": {},
   "outputs": [
    {
     "name": "stdout",
     "output_type": "stream",
     "text": [
      "[-2]\n",
      "[-2]\n",
      "[-2]\n",
      "[-2]\n"
     ]
    },
    {
     "data": {
      "text/plain": [
       "-2"
      ]
     },
     "execution_count": 685,
     "metadata": {},
     "output_type": "execute_result"
    }
   ],
   "source": [
    "maxProduct([-2])"
   ]
  },
  {
   "cell_type": "code",
   "execution_count": 684,
   "metadata": {},
   "outputs": [
    {
     "name": "stdout",
     "output_type": "stream",
     "text": [
      "[-4, -3]\n",
      "[-3, -4]\n",
      "[-4, 12]\n",
      "[-3, 12]\n"
     ]
    },
    {
     "data": {
      "text/plain": [
       "12"
      ]
     },
     "execution_count": 684,
     "metadata": {},
     "output_type": "execute_result"
    }
   ],
   "source": [
    "maxProduct([-4,-3])"
   ]
  },
  {
   "cell_type": "code",
   "execution_count": 683,
   "metadata": {},
   "outputs": [
    {
     "name": "stdout",
     "output_type": "stream",
     "text": [
      "[-3, -1, -1]\n",
      "[-1, -1, -3]\n",
      "[-3, 3, -3]\n",
      "[-1, 1, -3]\n"
     ]
    },
    {
     "data": {
      "text/plain": [
       "3"
      ]
     },
     "execution_count": 683,
     "metadata": {},
     "output_type": "execute_result"
    }
   ],
   "source": [
    "maxProduct([-3,-1,-1])"
   ]
  },
  {
   "cell_type": "code",
   "execution_count": 682,
   "metadata": {},
   "outputs": [
    {
     "name": "stdout",
     "output_type": "stream",
     "text": [
      "[0, 2]\n",
      "[2, 0]\n",
      "[0, 0]\n",
      "[2, 0]\n"
     ]
    },
    {
     "data": {
      "text/plain": [
       "2"
      ]
     },
     "execution_count": 682,
     "metadata": {},
     "output_type": "execute_result"
    }
   ],
   "source": [
    "maxProduct([0,2])"
   ]
  },
  {
   "cell_type": "code",
   "execution_count": 681,
   "metadata": {},
   "outputs": [
    {
     "name": "stdout",
     "output_type": "stream",
     "text": [
      "[-4, -3, -2]\n",
      "[-2, -3, -4]\n",
      "[-4, 12, -24]\n",
      "[-2, 6, -24]\n"
     ]
    },
    {
     "data": {
      "text/plain": [
       "12"
      ]
     },
     "execution_count": 681,
     "metadata": {},
     "output_type": "execute_result"
    }
   ],
   "source": [
    "maxProduct([-4,-3,-2])"
   ]
  },
  {
   "cell_type": "code",
   "execution_count": 680,
   "metadata": {},
   "outputs": [
    {
     "name": "stdout",
     "output_type": "stream",
     "text": [
      "[3, -1, 4]\n",
      "[4, -1, 3]\n",
      "[3, -3, -12]\n",
      "[4, -4, -12]\n"
     ]
    },
    {
     "data": {
      "text/plain": [
       "4"
      ]
     },
     "execution_count": 680,
     "metadata": {},
     "output_type": "execute_result"
    }
   ],
   "source": [
    "maxProduct([3,-1,4])"
   ]
  },
  {
   "cell_type": "code",
   "execution_count": 679,
   "metadata": {},
   "outputs": [
    {
     "name": "stdout",
     "output_type": "stream",
     "text": [
      "[-2, 3, -4]\n",
      "[-4, 3, -2]\n",
      "[-2, -6, 24]\n",
      "[-4, -12, 24]\n"
     ]
    },
    {
     "data": {
      "text/plain": [
       "24"
      ]
     },
     "execution_count": 679,
     "metadata": {},
     "output_type": "execute_result"
    }
   ],
   "source": [
    "maxProduct([-2,3,-4])"
   ]
  },
  {
   "cell_type": "code",
   "execution_count": 697,
   "metadata": {},
   "outputs": [],
   "source": [
    "def numIslands(grid):\n",
    "    if not grid:\n",
    "        return 0\n",
    "        \n",
    "    count = 0\n",
    "    for i in range(len(grid)):\n",
    "        for j in range(len(grid[0])):\n",
    "            if grid[i][j] == '1':\n",
    "                dfs(grid, i, j)\n",
    "                count += 1\n",
    "    return count\n",
    "\n",
    "def dfs(grid, i, j):\n",
    "    if i<0 or j<0 or i>=len(grid) or j>=len(grid[0]) or grid[i][j] != '1':\n",
    "        return\n",
    "    grid[i][j] = '#'\n",
    "    dfs(grid, i+1, j)\n",
    "    dfs(grid, i-1, j)\n",
    "    dfs(grid, i, j+1)\n",
    "    dfs(grid, i, j-1)         "
   ]
  },
  {
   "cell_type": "code",
   "execution_count": 698,
   "metadata": {},
   "outputs": [
    {
     "data": {
      "text/plain": [
       "1"
      ]
     },
     "execution_count": 698,
     "metadata": {},
     "output_type": "execute_result"
    }
   ],
   "source": [
    "numIslands([\n",
    "  [\"1\",\"1\",\"1\",\"1\",\"0\"],\n",
    "  [\"1\",\"1\",\"0\",\"1\",\"0\"],\n",
    "  [\"1\",\"1\",\"0\",\"0\",\"0\"],\n",
    "  [\"0\",\"0\",\"0\",\"0\",\"0\"]\n",
    "])"
   ]
  },
  {
   "cell_type": "code",
   "execution_count": 718,
   "metadata": {},
   "outputs": [],
   "source": [
    "#this option works but is too slow\n",
    "def maxSlidingWindow(nums,k):\n",
    "    maxLst = []\n",
    "    \n",
    "    for i in range(len(nums)-k+1):\n",
    "        maxLst.append(max(nums[i:(i+k)]))\n",
    "    return maxLst       "
   ]
  },
  {
   "cell_type": "code",
   "execution_count": 721,
   "metadata": {},
   "outputs": [],
   "source": [
    "#faster option\n",
    "def maxSlidingWindow(nums, k):\n",
    "    import collections\n",
    "    d = collections.deque()\n",
    "    out = []\n",
    "    for i, n in enumerate(nums):\n",
    "        while d and nums[d[-1]] < n:\n",
    "            d.pop()\n",
    "        d += i,\n",
    "        if d[0] == i - k:\n",
    "            d.popleft()\n",
    "        if i >= k - 1:\n",
    "            out += nums[d[0]],\n",
    "    return out     "
   ]
  },
  {
   "cell_type": "code",
   "execution_count": 722,
   "metadata": {},
   "outputs": [
    {
     "data": {
      "text/plain": [
       "[3, 3, 5, 5, 6, 7]"
      ]
     },
     "execution_count": 722,
     "metadata": {},
     "output_type": "execute_result"
    }
   ],
   "source": [
    "maxSlidingWindow([1,3,-1,-3,5,3,6,7],3)"
   ]
  },
  {
   "cell_type": "code",
   "execution_count": 723,
   "metadata": {},
   "outputs": [
    {
     "data": {
      "text/plain": [
       "[11]"
      ]
     },
     "execution_count": 723,
     "metadata": {},
     "output_type": "execute_result"
    }
   ],
   "source": [
    "maxSlidingWindow([9,11],2)"
   ]
  },
  {
   "cell_type": "code",
   "execution_count": 724,
   "metadata": {},
   "outputs": [
    {
     "data": {
      "text/plain": [
       "[4]"
      ]
     },
     "execution_count": 724,
     "metadata": {},
     "output_type": "execute_result"
    }
   ],
   "source": [
    "maxSlidingWindow([4,-2],2)"
   ]
  },
  {
   "cell_type": "code",
   "execution_count": 830,
   "metadata": {},
   "outputs": [],
   "source": [
    "def numSubarrayProductLessThanK(nums,k):\n",
    "    '''Given an array of integers nums and an integer k, \n",
    "    return the number of contiguous subarrays where the product of all the elements in the \n",
    "    subarray is strictly less than k'''\n",
    "    left, prod, count = 0, 1, 0\n",
    "            \n",
    "    for right in range(len(nums)):\n",
    "        prod *= nums[right]            \n",
    "        \n",
    "        while prod >= k and left <= right:                    \n",
    "            prod /= nums[left]\n",
    "            left += 1                        \n",
    "        count += right - left + 1                \n",
    "    return count"
   ]
  },
  {
   "cell_type": "code",
   "execution_count": 831,
   "metadata": {},
   "outputs": [
    {
     "data": {
      "text/plain": [
       "8"
      ]
     },
     "execution_count": 831,
     "metadata": {},
     "output_type": "execute_result"
    }
   ],
   "source": [
    "numSubarrayProductLessThanK([10,5,2,6],100)"
   ]
  },
  {
   "cell_type": "code",
   "execution_count": 832,
   "metadata": {},
   "outputs": [
    {
     "data": {
      "text/plain": [
       "0"
      ]
     },
     "execution_count": 832,
     "metadata": {},
     "output_type": "execute_result"
    }
   ],
   "source": [
    "numSubarrayProductLessThanK([1,2,3],0)"
   ]
  },
  {
   "cell_type": "code",
   "execution_count": 833,
   "metadata": {},
   "outputs": [
    {
     "data": {
      "text/plain": [
       "18"
      ]
     },
     "execution_count": 833,
     "metadata": {},
     "output_type": "execute_result"
    }
   ],
   "source": [
    "numSubarrayProductLessThanK([10,9,10,4,3,8,3,3,6,2,10,10,9,3],19)"
   ]
  },
  {
   "cell_type": "code",
   "execution_count": 834,
   "metadata": {},
   "outputs": [
    {
     "data": {
      "text/plain": [
       "6"
      ]
     },
     "execution_count": 834,
     "metadata": {},
     "output_type": "execute_result"
    }
   ],
   "source": [
    "numSubarrayProductLessThanK([1,1,1],2)"
   ]
  },
  {
   "cell_type": "code",
   "execution_count": 855,
   "metadata": {},
   "outputs": [],
   "source": [
    "def search(nums,target):\n",
    "    'use binary search to return index of target, if it doesnt exist return -1'\n",
    "    lo, hi = 0, len(nums)-1\n",
    "\n",
    "    while lo <= hi:\n",
    "        mid = (hi + lo)//2\n",
    "        if nums[mid] == target:\n",
    "            return mid\n",
    "        if nums[mid] < target:\n",
    "            lo = mid+1\n",
    "        else:\n",
    "            hi = mid-1\n",
    "        \n",
    "    return -1"
   ]
  },
  {
   "cell_type": "code",
   "execution_count": 881,
   "metadata": {},
   "outputs": [],
   "source": [
    "def search(nums,target):\n",
    "    'same as above, but if need to consider repeats'\n",
    "    lo, hi = 0, len(nums)-1\n",
    "    def locate():\n",
    "        if nums[mid] == target:\n",
    "            if mid >= 0 and nums[mid-1] != target:\n",
    "                return 'found'\n",
    "            else:\n",
    "                return 'left'\n",
    "        if nums[mid] < target:\n",
    "            return 'right'\n",
    "        else:\n",
    "            return 'left'\n",
    "        \n",
    "    while lo <= hi:\n",
    "        mid = (hi + lo)//2\n",
    "        if locate() == 'found':\n",
    "                return mid\n",
    "        if locate() == 'right':\n",
    "            lo = mid+1\n",
    "        else:\n",
    "            hi = mid-1\n",
    "        \n",
    "    return -1"
   ]
  },
  {
   "cell_type": "code",
   "execution_count": 882,
   "metadata": {},
   "outputs": [
    {
     "data": {
      "text/plain": [
       "5"
      ]
     },
     "execution_count": 882,
     "metadata": {},
     "output_type": "execute_result"
    }
   ],
   "source": [
    "search([-1,0,3,5,6,9,9,12],9)"
   ]
  },
  {
   "cell_type": "code",
   "execution_count": 883,
   "metadata": {},
   "outputs": [
    {
     "data": {
      "text/plain": [
       "-1"
      ]
     },
     "execution_count": 883,
     "metadata": {},
     "output_type": "execute_result"
    }
   ],
   "source": [
    "search(nums = [-1,0,3,5,9,12], target = 2)"
   ]
  },
  {
   "cell_type": "code",
   "execution_count": null,
   "metadata": {},
   "outputs": [],
   "source": [
    "nums = [7,8,9,3,5, 6]\n",
    "[1,2,3,4,5]"
   ]
  },
  {
   "cell_type": "code",
   "execution_count": 893,
   "metadata": {},
   "outputs": [],
   "source": [
    "def rotate(nums):\n",
    "    'return minimum times lst was rotated from original sorted position'\n",
    "    lo, hi = 0, len(nums)-1\n",
    "    def locate():\n",
    "        if nums[mid] < nums[mid-1]:\n",
    "            return 'found'\n",
    "        if nums[mid] < nums[-1]:\n",
    "            return 'left'\n",
    "        else:\n",
    "            return 'right'\n",
    "        \n",
    "    while lo <= hi:\n",
    "        mid = (hi + lo)//2\n",
    "        if locate() == 'found':\n",
    "            return mid\n",
    "        if locate() == 'right':\n",
    "            lo = mid + 1\n",
    "        else:\n",
    "            hi = mid - 1\n",
    "        \n",
    "    return 0 \n",
    "    "
   ]
  },
  {
   "cell_type": "code",
   "execution_count": 894,
   "metadata": {},
   "outputs": [
    {
     "data": {
      "text/plain": [
       "3"
      ]
     },
     "execution_count": 894,
     "metadata": {},
     "output_type": "execute_result"
    }
   ],
   "source": [
    "rotate([7,8,9,3,5,6])"
   ]
  },
  {
   "cell_type": "code",
   "execution_count": 895,
   "metadata": {},
   "outputs": [
    {
     "data": {
      "text/plain": [
       "0"
      ]
     },
     "execution_count": 895,
     "metadata": {},
     "output_type": "execute_result"
    }
   ],
   "source": [
    "rotate([1,2,3,4,5])"
   ]
  },
  {
   "cell_type": "code",
   "execution_count": 896,
   "metadata": {},
   "outputs": [
    {
     "data": {
      "text/plain": [
       "5"
      ]
     },
     "execution_count": 896,
     "metadata": {},
     "output_type": "execute_result"
    }
   ],
   "source": [
    "rotate([1,2,3,4,5,-1,0])"
   ]
  },
  {
   "cell_type": "code",
   "execution_count": 916,
   "metadata": {},
   "outputs": [],
   "source": [
    "def rotateSearch(nums, target):\n",
    "    'search for a target in a lst was rotated from original sorted position'\n",
    "    if not nums:\n",
    "        return -1\n",
    "\n",
    "    low, high = 0, len(nums) - 1\n",
    "\n",
    "    while low <= high:\n",
    "        mid = (low + high) // 2\n",
    "        if target == nums[mid]:\n",
    "            return mid\n",
    "\n",
    "        if nums[low] <= nums[mid]:\n",
    "            if nums[low] <= target <= nums[mid]:\n",
    "                high = mid - 1\n",
    "            else:\n",
    "                low = mid + 1\n",
    "        else:\n",
    "            if nums[mid] <= target <= nums[high]:\n",
    "                low = mid + 1\n",
    "            else:\n",
    "                high = mid - 1\n",
    "\n",
    "    return -1\n",
    "    "
   ]
  },
  {
   "cell_type": "code",
   "execution_count": 917,
   "metadata": {},
   "outputs": [
    {
     "data": {
      "text/plain": [
       "4"
      ]
     },
     "execution_count": 917,
     "metadata": {},
     "output_type": "execute_result"
    }
   ],
   "source": [
    "rotateSearch([5,6,9,0,2,3,4],2)"
   ]
  },
  {
   "cell_type": "code",
   "execution_count": 918,
   "metadata": {},
   "outputs": [
    {
     "data": {
      "text/plain": [
       "5"
      ]
     },
     "execution_count": 918,
     "metadata": {},
     "output_type": "execute_result"
    }
   ],
   "source": [
    "rotateSearch([4,5,6,1,2,3],3)"
   ]
  },
  {
   "cell_type": "code",
   "execution_count": 919,
   "metadata": {},
   "outputs": [
    {
     "data": {
      "text/plain": [
       "-1"
      ]
     },
     "execution_count": 919,
     "metadata": {},
     "output_type": "execute_result"
    }
   ],
   "source": [
    "rotateSearch([4,5,6,7,0,1,2],3)"
   ]
  },
  {
   "cell_type": "code",
   "execution_count": 920,
   "metadata": {},
   "outputs": [
    {
     "data": {
      "text/plain": [
       "4"
      ]
     },
     "execution_count": 920,
     "metadata": {},
     "output_type": "execute_result"
    }
   ],
   "source": [
    "rotateSearch(nums = [4,5,6,7,0,1,2], target = 0)"
   ]
  },
  {
   "cell_type": "code",
   "execution_count": 921,
   "metadata": {},
   "outputs": [
    {
     "data": {
      "text/plain": [
       "0"
      ]
     },
     "execution_count": 921,
     "metadata": {},
     "output_type": "execute_result"
    }
   ],
   "source": [
    "rotateSearch([3,5,1],3)"
   ]
  },
  {
   "cell_type": "code",
   "execution_count": 950,
   "metadata": {
    "scrolled": true
   },
   "outputs": [
    {
     "name": "stdout",
     "output_type": "stream",
     "text": [
      "7\n",
      "[0, 1, 2, 3, 4, 5, 6, 8, 9, 10, 11, 12, 13, 14, 15, 16, 17, 18, 19, 20, 21, 22, 23, 24, 25, 26, 27, 28, 29, 30, 31, 32, 33, 34, 35, 36, 37, 38, 39, 40, 41, 42, 43, 44, 45, 46, 47, 48, 49, 50, 51, 52, 53, 54, 55, 56, 57, 58, 59, 60, 61, 62, 63, 64, 65, 66, 67, 68, 69, 70, 71, 72, 73, 74, 75, 76, 77, 78, 79, 80, 81, 82, 83, 84, 85, 86, 87, 88, 89, 90, 91, 92, 93, 94, 95, 96, 97, 98, 99]\n"
     ]
    }
   ],
   "source": [
    "lst = []\n",
    "for i in range(100):\n",
    "    lst.append(i)\n",
    "import random\n",
    "r = random.randint(0,100)\n",
    "print(r)\n",
    "lst.pop(r)\n",
    "print(lst)"
   ]
  },
  {
   "cell_type": "code",
   "execution_count": 951,
   "metadata": {},
   "outputs": [],
   "source": [
    "import time"
   ]
  },
  {
   "cell_type": "code",
   "execution_count": 952,
   "metadata": {},
   "outputs": [],
   "source": [
    "def findMissing(lst):\n",
    "    #BRUTE FORCE\n",
    "    'return the missing number from a sorted list ranged 0-99'\n",
    "    missing = None\n",
    "    for i in range(1,len(lst)):\n",
    "        if lst[i] - lst[i-1] > 1:\n",
    "            missing = i\n",
    "    return missing\n",
    "        "
   ]
  },
  {
   "cell_type": "code",
   "execution_count": 953,
   "metadata": {},
   "outputs": [
    {
     "name": "stdout",
     "output_type": "stream",
     "text": [
      "7\n",
      "0.0\n"
     ]
    }
   ],
   "source": [
    "t = time.time()\n",
    "print(findMissing(lst))\n",
    "t1 = time.time()\n",
    "print(t1-t)"
   ]
  },
  {
   "cell_type": "code",
   "execution_count": 954,
   "metadata": {},
   "outputs": [],
   "source": [
    "def findMissing(lst):\n",
    "    #BRUTE FORCE with while loop\n",
    "    'return the missing number from a sorted list ranged 0-99'\n",
    "    missing = None\n",
    "    c = 1\n",
    "    while lst[c] - lst[c-1] == 1:\n",
    "        c += 1\n",
    "    return lst[c]-1"
   ]
  },
  {
   "cell_type": "code",
   "execution_count": 955,
   "metadata": {},
   "outputs": [
    {
     "name": "stdout",
     "output_type": "stream",
     "text": [
      "7\n",
      "0.0\n"
     ]
    }
   ],
   "source": [
    "t = time.time()\n",
    "print(findMissing(lst))\n",
    "t1 = time.time()\n",
    "print(t1-t)"
   ]
  },
  {
   "cell_type": "code",
   "execution_count": 34,
   "metadata": {},
   "outputs": [],
   "source": [
    "def findMin(nums):\n",
    "    'return the minimum in a rotated array'\n",
    "    lo, hi = 0, len(nums) -1 \n",
    "    \n",
    "    while lo < hi:\n",
    "        mid = (lo+hi)//2\n",
    "        if nums[mid] > nums[-1]:\n",
    "            lo = mid + 1\n",
    "        else:\n",
    "            hi = mid\n",
    "    return nums[lo]"
   ]
  },
  {
   "cell_type": "code",
   "execution_count": 35,
   "metadata": {},
   "outputs": [
    {
     "data": {
      "text/plain": [
       "0"
      ]
     },
     "execution_count": 35,
     "metadata": {},
     "output_type": "execute_result"
    }
   ],
   "source": [
    "findMin([4,5,6,7,0,1,2])"
   ]
  },
  {
   "cell_type": "code",
   "execution_count": 36,
   "metadata": {},
   "outputs": [
    {
     "data": {
      "text/plain": [
       "0"
      ]
     },
     "execution_count": 36,
     "metadata": {},
     "output_type": "execute_result"
    }
   ],
   "source": [
    "findMin([0,1,2,4,5,6,7])"
   ]
  },
  {
   "cell_type": "code",
   "execution_count": 37,
   "metadata": {},
   "outputs": [
    {
     "data": {
      "text/plain": [
       "1"
      ]
     },
     "execution_count": 37,
     "metadata": {},
     "output_type": "execute_result"
    }
   ],
   "source": [
    "findMin([3,4,5,1,2])"
   ]
  },
  {
   "cell_type": "code",
   "execution_count": 88,
   "metadata": {},
   "outputs": [],
   "source": [
    "def lengthOfLongestSubstring(s: str) -> int:\n",
    "    d = {}\n",
    "    max_length = 0\n",
    "    start = 0 #starting index\n",
    "    for i, c in enumerate(s):\n",
    "        if c in d and start <= d[c]:\n",
    "            start = d[c] + 1\n",
    "        else:\n",
    "            max_length = max(max_length, i - start + 1)\n",
    "            \n",
    "        d[c] = i #saving index with character\n",
    "\n",
    "    \n",
    "    return max_length"
   ]
  },
  {
   "cell_type": "code",
   "execution_count": 91,
   "metadata": {},
   "outputs": [
    {
     "name": "stdout",
     "output_type": "stream",
     "text": [
      "M = 3\n",
      "Start = 7\n"
     ]
    }
   ],
   "source": [
    "lengthOfLongestSubstring('abcabcbb')"
   ]
  },
  {
   "cell_type": "code",
   "execution_count": 92,
   "metadata": {},
   "outputs": [
    {
     "name": "stdout",
     "output_type": "stream",
     "text": [
      "M = 1\n",
      "Start = 6\n"
     ]
    }
   ],
   "source": [
    "lengthOfLongestSubstring('bbbbbbb')"
   ]
  },
  {
   "cell_type": "code",
   "execution_count": 93,
   "metadata": {},
   "outputs": [
    {
     "name": "stdout",
     "output_type": "stream",
     "text": [
      "M = 3\n",
      "Start = 3\n"
     ]
    }
   ],
   "source": [
    "lengthOfLongestSubstring('pwwkew')"
   ]
  },
  {
   "cell_type": "code",
   "execution_count": 94,
   "metadata": {},
   "outputs": [
    {
     "name": "stdout",
     "output_type": "stream",
     "text": [
      "M = 1\n",
      "Start = 1\n"
     ]
    }
   ],
   "source": [
    "lengthOfLongestSubstring('  ')"
   ]
  },
  {
   "cell_type": "code",
   "execution_count": 95,
   "metadata": {},
   "outputs": [
    {
     "name": "stdout",
     "output_type": "stream",
     "text": [
      "M = 2\n",
      "Start = 0\n"
     ]
    }
   ],
   "source": [
    "lengthOfLongestSubstring('au')"
   ]
  },
  {
   "cell_type": "code",
   "execution_count": 96,
   "metadata": {},
   "outputs": [
    {
     "name": "stdout",
     "output_type": "stream",
     "text": [
      "M = 3\n",
      "Start = 1\n"
     ]
    }
   ],
   "source": [
    "lengthOfLongestSubstring('dvdf')"
   ]
  },
  {
   "cell_type": "code",
   "execution_count": 99,
   "metadata": {},
   "outputs": [],
   "source": [
    "def lengthOfLongestSubstring(s): #my revision for understanding\n",
    "    d = {}\n",
    "    m = 0\n",
    "    start = 0\n",
    "    for c, i in enumerate(s):\n",
    "        \n",
    "        if i in d and start <= d[i]: #if letter in dict and start <= previous entry, change start\n",
    "            start = d[i] + 1\n",
    "        \n",
    "        else:\n",
    "            m = max(m,c - start + 1)\n",
    "            \n",
    "        d[i] = c\n",
    "        \n",
    "    print('M =',m)\n",
    "    print('Start =',start)"
   ]
  },
  {
   "cell_type": "code",
   "execution_count": null,
   "metadata": {},
   "outputs": [],
   "source": []
  }
 ],
 "metadata": {
  "kernelspec": {
   "display_name": "Python 3",
   "language": "python",
   "name": "python3"
  },
  "language_info": {
   "codemirror_mode": {
    "name": "ipython",
    "version": 3
   },
   "file_extension": ".py",
   "mimetype": "text/x-python",
   "name": "python",
   "nbconvert_exporter": "python",
   "pygments_lexer": "ipython3",
   "version": "3.8.3"
  }
 },
 "nbformat": 4,
 "nbformat_minor": 5
}
