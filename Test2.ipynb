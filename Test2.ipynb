{
 "cells": [
  {
   "cell_type": "markdown",
   "metadata": {},
   "source": [
    "# Heading"
   ]
  },
  {
   "cell_type": "markdown",
   "metadata": {},
   "source": [
    "##subheading"
   ]
  },
  {
   "cell_type": "code",
   "execution_count": 2,
   "metadata": {},
   "outputs": [
    {
     "data": {
      "text/plain": [
       "4"
      ]
     },
     "execution_count": 2,
     "metadata": {},
     "output_type": "execute_result"
    }
   ],
   "source": [
    "2+2"
   ]
  },
  {
   "cell_type": "code",
   "execution_count": 1,
   "metadata": {},
   "outputs": [
    {
     "data": {
      "text/plain": [
       "2"
      ]
     },
     "execution_count": 1,
     "metadata": {},
     "output_type": "execute_result"
    }
   ],
   "source": [
    "1+1"
   ]
  },
  {
   "cell_type": "code",
   "execution_count": 3,
   "metadata": {},
   "outputs": [
    {
     "data": {
      "text/plain": [
       "4"
      ]
     },
     "execution_count": 3,
     "metadata": {},
     "output_type": "execute_result"
    }
   ],
   "source": [
    "4+0"
   ]
  },
  {
   "cell_type": "markdown",
   "metadata": {},
   "source": [
    "testing"
   ]
  },
  {
   "cell_type": "code",
   "execution_count": 35,
   "metadata": {},
   "outputs": [],
   "source": [
    "def groupSort(arr):\n",
    "    from collections import Counter\n",
    "    lst = []\n",
    "    count = Counter(arr)\n",
    "    m_freq = 0\n",
    "    for key,value in count.items():\n",
    "        lst.append([key,value])\n",
    "        if value > m_freq:\n",
    "            m_freq = value\n",
    "        \n",
    "    s_lst = []\n",
    "    \n",
    "    print(m_freq)\n",
    "    for i,y in lst:\n",
    "        if y == m_freq:\n",
    "            s_lst.append(i)\n",
    "    \n",
    "    for i in sorted(s_lst):\n",
    "        \n",
    "    print(lst)"
   ]
  },
  {
   "cell_type": "code",
   "execution_count": 62,
   "metadata": {},
   "outputs": [],
   "source": [
    "def groupSort(arr):\n",
    "    # Ex: [3,3,1,2,1]\n",
    "    #decreasing freq\n",
    "    #[3,3,1,1,2]\n",
    "    #increasing value\n",
    "    #[1,1,3,3,2]\n",
    "    from collections import Counter\n",
    "    \n",
    "    count = Counter(arr)\n",
    "    arr.sort(key=lambda x: (-count[x], x)) #sorts first by decreasing freq and then by increasing\n",
    "                                            #value\n",
    "    count = Counter(arr)\n",
    "    \n",
    "    lst = []\n",
    "    for key,value in count.items():\n",
    "        lst.append([key,value])\n",
    "    return lst"
   ]
  },
  {
   "cell_type": "code",
   "execution_count": 58,
   "metadata": {},
   "outputs": [
    {
     "data": {
      "text/plain": [
       "[[1, 2], [3, 2], [2, 1]]"
      ]
     },
     "execution_count": 58,
     "metadata": {},
     "output_type": "execute_result"
    }
   ],
   "source": [
    "groupSort([3,3,1,2,1])"
   ]
  },
  {
   "cell_type": "code",
   "execution_count": 59,
   "metadata": {},
   "outputs": [
    {
     "data": {
      "text/plain": [
       "[[2, 3], [1, 1]]"
      ]
     },
     "execution_count": 59,
     "metadata": {},
     "output_type": "execute_result"
    }
   ],
   "source": [
    "groupSort([2,1,2,2])"
   ]
  },
  {
   "cell_type": "code",
   "execution_count": 60,
   "metadata": {},
   "outputs": [
    {
     "name": "stdout",
     "output_type": "stream",
     "text": [
      "[3, 3, 1, 2, 1]\n",
      "Counter({3: 2, 1: 2, 2: 1})\n"
     ]
    }
   ],
   "source": [
    "from collections import Counter\n",
    "arr = [3,3,1,2,1]\n",
    "count = Counter(arr)\n",
    "print(arr)\n",
    "print(count)"
   ]
  },
  {
   "cell_type": "code",
   "execution_count": 61,
   "metadata": {},
   "outputs": [],
   "source": [
    "# Ex: [3,3,1,2,1]\n",
    "#decreasing freq\n",
    "#[3,3,1,1,2]\n",
    "#increasing value\n",
    "#[1,1,3,3,2]"
   ]
  },
  {
   "cell_type": "code",
   "execution_count": null,
   "metadata": {},
   "outputs": [],
   "source": []
  }
 ],
 "metadata": {
  "kernelspec": {
   "display_name": "Python 3",
   "language": "python",
   "name": "python3"
  },
  "language_info": {
   "codemirror_mode": {
    "name": "ipython",
    "version": 3
   },
   "file_extension": ".py",
   "mimetype": "text/x-python",
   "name": "python",
   "nbconvert_exporter": "python",
   "pygments_lexer": "ipython3",
   "version": "3.8.3"
  }
 },
 "nbformat": 4,
 "nbformat_minor": 4
}
